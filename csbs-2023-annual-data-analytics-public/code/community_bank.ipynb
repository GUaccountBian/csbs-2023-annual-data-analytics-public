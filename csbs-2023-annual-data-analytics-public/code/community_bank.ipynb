{
 "cells": [
  {
   "cell_type": "code",
   "execution_count": 1,
   "metadata": {},
   "outputs": [],
   "source": [
    "import pandas as pd\n",
    "import numpy as np"
   ]
  },
  {
   "cell_type": "code",
   "execution_count": 2,
   "metadata": {},
   "outputs": [
    {
     "name": "stderr",
     "output_type": "stream",
     "text": [
      "/var/folders/_2/33mp53_x0hggvd5wvtm7xmhr0000gn/T/ipykernel_99847/1623577896.py:4: DtypeWarning: Columns (27) have mixed types. Specify dtype option on import or set low_memory=False.\n",
      "  bank_all_04_07 = pd.read_csv(\"./04-07_cleaned.csv\")\n",
      "/var/folders/_2/33mp53_x0hggvd5wvtm7xmhr0000gn/T/ipykernel_99847/1623577896.py:5: DtypeWarning: Columns (1,2,3,4,5,6,7,8,9,10,11,12,13,14,15,16,17,18,19,20,21,22,23,24,25,26,27,28,29,30,31,32,33,34,35,36,37,38,39,40,41,42,43,45,46,47,48,49,50,51,52,53,54,55,56,57,58,59,60,61,62,63,64,65,66,67,68,69,70,71,72,73,74,75,76,79,80,81,82,83,84,85,86,87,88,89,90,91,92,93,94,95,96,97,98,99,100,101,102,103,104,105,106,107,108,109,110,111,112,113,114,115,116,117,118,119,120,121,122,123,124,125,126,127,128,129,130,131,132,133,134,135,136,137,138,139,140,141,142) have mixed types. Specify dtype option on import or set low_memory=False.\n",
      "  bank_all_19_22 = pd.read_csv(\"./19-22_cleaned.csv\")\n"
     ]
    }
   ],
   "source": [
    "community_bk_03_09 = pd.read_csv(\"./data/Community Banking Reference/historical-community-banking-reference-data-2003-to-2009.csv\")\n",
    "community_bk_17_22 = pd.read_csv(\"./data/Community Banking Reference/historical-community-banking-reference-data-2017-to-2022.csv\")\n",
    "\n",
    "bank_all_04_07 = pd.read_csv(\"./04-07_cleaned.csv\")\n",
    "bank_all_19_22 = pd.read_csv(\"./19-22_cleaned.csv\")"
   ]
  },
  {
   "cell_type": "code",
   "execution_count": 3,
   "metadata": {},
   "outputs": [],
   "source": [
    "# example: keep rows in 04-07_cleaned.csv where the column \"FDIC certificate number\" shows up in CERT column in \"community_bk_03_09\"\n",
    "cb_list_03_09 = pd.DataFrame(community_bk_03_09.CERT.unique())\n",
    "cb_list_03_09 = cb_list_03_09.rename(columns={cb_list_03_09.columns[0]: 'CERT'})\n",
    "\n",
    "cb_list_19_22 = pd.DataFrame(community_bk_17_22.CERT.unique())\n",
    "cb_list_19_22 = cb_list_19_22.rename(columns={cb_list_19_22.columns[0]: 'CERT'})\n"
   ]
  },
  {
   "cell_type": "code",
   "execution_count": 4,
   "metadata": {},
   "outputs": [],
   "source": [
    "cb_04_07 = pd.merge(bank_all_04_07,cb_list_03_09, how='inner', left_on=['FDIC Certificate Number'], right_on=['CERT'])\n",
    "cb_19_22 = pd.merge(bank_all_19_22,cb_list_19_22, how='inner', left_on=['FDIC Certificate Number'], right_on=['CERT'])"
   ]
  },
  {
   "cell_type": "code",
   "execution_count": 5,
   "metadata": {},
   "outputs": [],
   "source": [
    "cb_04_07.drop(['Unnamed: 0','Reporting Period End Date.1','IDRSSD.3','IDRSSD.2','FDIC Certificate Number','FDIC Certificate Number.1','OCC Charter Number.1','OTS Docket Number.1','Primary ABA Routing Number.1','Financial Institution Filing Type.1'], axis=1, inplace = True)\n",
    "cb_19_22.drop(['Unnamed: 0','Reporting Period End Date.1','IDRSSD.3','IDRSSD.2','FDIC Certificate Number','FDIC Certificate Number.1','OCC Charter Number.1','OTS Docket Number.1','Primary ABA Routing Number.1','Financial Institution Filing Type.1'],axis =1, inplace = True)"
   ]
  },
  {
   "cell_type": "code",
   "execution_count": 6,
   "metadata": {},
   "outputs": [],
   "source": [
    "#save data \n",
    "cb_04_07.to_csv('cb_04_07.csv', index=False)\n",
    "cb_19_22.to_csv('cb_19_22.csv', index=False)"
   ]
  }
 ],
 "metadata": {
  "kernelspec": {
   "display_name": "Python 3.10.4 ('ANLY501')",
   "language": "python",
   "name": "python3"
  },
  "language_info": {
   "codemirror_mode": {
    "name": "ipython",
    "version": 3
   },
   "file_extension": ".py",
   "mimetype": "text/x-python",
   "name": "python",
   "nbconvert_exporter": "python",
   "pygments_lexer": "ipython3",
   "version": "3.10.4"
  },
  "orig_nbformat": 4,
  "vscode": {
   "interpreter": {
    "hash": "8447dcf4441cb364e17ac3951d65782ab3690fea008a2e20b50071b186f08664"
   }
  }
 },
 "nbformat": 4,
 "nbformat_minor": 2
}
